{
 "cells": [
  {
   "cell_type": "code",
   "execution_count": 1,
   "metadata": {},
   "outputs": [],
   "source": [
    "import numpy as np\n",
    "import pandas as pd\n",
    "from micasense import imageset"
   ]
  },
  {
   "cell_type": "code",
   "execution_count": 2,
   "metadata": {},
   "outputs": [
    {
     "name": "stdout",
     "output_type": "stream",
     "text": [
      "Loading ImageSet from: /media/davis/UBUNTU 20_0/Easten 050122 M300/0002SET\n"
     ]
    }
   ],
   "source": [
    "imgset = imageset.ImageSet.from_directory(\"/media/davis/UBUNTU 20_0/Easten 050122 M300/0002SET\")"
   ]
  },
  {
   "cell_type": "code",
   "execution_count": 3,
   "metadata": {},
   "outputs": [],
   "source": [
    "data, columns = imgset.as_nested_lists()\n",
    "df = pd.DataFrame.from_records(data, columns=columns)"
   ]
  },
  {
   "cell_type": "code",
   "execution_count": 4,
   "metadata": {},
   "outputs": [],
   "source": [
    "def check_calibrated(capture):\n",
    "    if capture.panels_in_all_expected_images():\n",
    "        return True\n",
    "    capture.clear_image_data()\n",
    "    return False"
   ]
  },
  {
   "cell_type": "code",
   "execution_count": 5,
   "metadata": {},
   "outputs": [],
   "source": [
    "    for capture in imgset.captures:\n",
    "        ci = capture.images[0].capture_id\n",
    "        df.loc[df.capture_id == ci, \"capture\"] = capture"
   ]
  },
  {
   "cell_type": "code",
   "execution_count": 6,
   "metadata": {
    "scrolled": true
   },
   "outputs": [
    {
     "name": "stderr",
     "output_type": "stream",
     "text": [
      "/home/davis/.local/lib/python3.8/site-packages/pandas/core/indexing.py:670: SettingWithCopyWarning: \n",
      "A value is trying to be set on a copy of a slice from a DataFrame\n",
      "\n",
      "See the caveats in the documentation: https://pandas.pydata.org/pandas-docs/stable/user_guide/indexing.html#returning-a-view-versus-a-copy\n",
      "  iloc._setitem_with_indexer(indexer, value)\n"
     ]
    },
    {
     "data": {
      "text/plain": [
       "0       True\n",
       "1       True\n",
       "2       True\n",
       "3      False\n",
       "4      False\n",
       "       ...  \n",
       "390    False\n",
       "391    False\n",
       "392     True\n",
       "393     True\n",
       "394     True\n",
       "Name: calibrated, Length: 395, dtype: bool"
      ]
     },
     "execution_count": 6,
     "metadata": {},
     "output_type": "execute_result"
    }
   ],
   "source": [
    "df[\"calibrated\"] = False\n",
    "df.calibrated.iloc[:10] = df.capture.iloc[:10].apply(check_calibrated)\n",
    "df.calibrated.iloc[-10:] = df.capture.iloc[-10:].apply(check_calibrated)\n",
    "\n",
    "df.calibrated"
   ]
  },
  {
   "cell_type": "code",
   "execution_count": 7,
   "metadata": {},
   "outputs": [
    {
     "data": {
      "text/html": [
       "<div>\n",
       "<style scoped>\n",
       "    .dataframe tbody tr th:only-of-type {\n",
       "        vertical-align: middle;\n",
       "    }\n",
       "\n",
       "    .dataframe tbody tr th {\n",
       "        vertical-align: top;\n",
       "    }\n",
       "\n",
       "    .dataframe thead th {\n",
       "        text-align: right;\n",
       "    }\n",
       "</style>\n",
       "<table border=\"1\" class=\"dataframe\">\n",
       "  <thead>\n",
       "    <tr style=\"text-align: right;\">\n",
       "      <th></th>\n",
       "      <th>timestamp</th>\n",
       "      <th>latitude</th>\n",
       "      <th>longitude</th>\n",
       "      <th>altitude</th>\n",
       "      <th>capture_id</th>\n",
       "      <th>dls-yaw</th>\n",
       "      <th>dls-pitch</th>\n",
       "      <th>dls-roll</th>\n",
       "      <th>irr-475</th>\n",
       "      <th>irr-560</th>\n",
       "      <th>irr-668</th>\n",
       "      <th>irr-840</th>\n",
       "      <th>irr-717</th>\n",
       "      <th>capture</th>\n",
       "      <th>calibrated</th>\n",
       "    </tr>\n",
       "  </thead>\n",
       "  <tbody>\n",
       "    <tr>\n",
       "      <th>0</th>\n",
       "      <td>2022-05-01 18:50:00.214243+00:00</td>\n",
       "      <td>40.651590</td>\n",
       "      <td>-104.993526</td>\n",
       "      <td>1553.285</td>\n",
       "      <td>wmW6Ovyglr7f3fte4v8j</td>\n",
       "      <td>-2.861374</td>\n",
       "      <td>-0.227556</td>\n",
       "      <td>-0.008809</td>\n",
       "      <td>0.671917</td>\n",
       "      <td>0.575687</td>\n",
       "      <td>0.624080</td>\n",
       "      <td>0.378787</td>\n",
       "      <td>0.566405</td>\n",
       "      <td>&lt;micasense.capture.Capture object at 0x7fa5305...</td>\n",
       "      <td>True</td>\n",
       "    </tr>\n",
       "    <tr>\n",
       "      <th>1</th>\n",
       "      <td>2022-05-01 18:50:03.973934+00:00</td>\n",
       "      <td>40.651591</td>\n",
       "      <td>-104.993527</td>\n",
       "      <td>1553.319</td>\n",
       "      <td>pEAA0e9bAccdQCPNoQqo</td>\n",
       "      <td>-2.879719</td>\n",
       "      <td>-0.231877</td>\n",
       "      <td>-0.000182</td>\n",
       "      <td>0.677606</td>\n",
       "      <td>0.579780</td>\n",
       "      <td>0.627843</td>\n",
       "      <td>0.381185</td>\n",
       "      <td>0.571736</td>\n",
       "      <td>&lt;micasense.capture.Capture object at 0x7fa5091...</td>\n",
       "      <td>True</td>\n",
       "    </tr>\n",
       "    <tr>\n",
       "      <th>2</th>\n",
       "      <td>2022-05-01 18:50:07.764530+00:00</td>\n",
       "      <td>40.651592</td>\n",
       "      <td>-104.993529</td>\n",
       "      <td>1553.381</td>\n",
       "      <td>dqlcOLQfKHJqdGoncpe0</td>\n",
       "      <td>-2.906203</td>\n",
       "      <td>-0.240109</td>\n",
       "      <td>0.003390</td>\n",
       "      <td>0.678770</td>\n",
       "      <td>0.580520</td>\n",
       "      <td>0.629626</td>\n",
       "      <td>0.381993</td>\n",
       "      <td>0.571969</td>\n",
       "      <td>&lt;micasense.capture.Capture object at 0x7fa5091...</td>\n",
       "      <td>True</td>\n",
       "    </tr>\n",
       "    <tr>\n",
       "      <th>3</th>\n",
       "      <td>2022-05-01 18:51:09.543810+00:00</td>\n",
       "      <td>40.651599</td>\n",
       "      <td>-104.993523</td>\n",
       "      <td>1553.680</td>\n",
       "      <td>aZc4htnDo4FDpZfbF8yi</td>\n",
       "      <td>-3.005834</td>\n",
       "      <td>-0.174524</td>\n",
       "      <td>-0.026523</td>\n",
       "      <td>0.797196</td>\n",
       "      <td>0.676911</td>\n",
       "      <td>0.726001</td>\n",
       "      <td>0.427084</td>\n",
       "      <td>0.655633</td>\n",
       "      <td>&lt;micasense.capture.Capture object at 0x7fa5091...</td>\n",
       "      <td>False</td>\n",
       "    </tr>\n",
       "    <tr>\n",
       "      <th>4</th>\n",
       "      <td>2022-05-01 18:52:03.725354+00:00</td>\n",
       "      <td>40.651614</td>\n",
       "      <td>-104.993429</td>\n",
       "      <td>1592.947</td>\n",
       "      <td>Q4b7qQ5K7Y9T8vH52rZI</td>\n",
       "      <td>2.831001</td>\n",
       "      <td>-0.096044</td>\n",
       "      <td>0.161941</td>\n",
       "      <td>0.799710</td>\n",
       "      <td>0.676803</td>\n",
       "      <td>0.719237</td>\n",
       "      <td>0.429604</td>\n",
       "      <td>0.671434</td>\n",
       "      <td>&lt;micasense.capture.Capture object at 0x7fa5091...</td>\n",
       "      <td>False</td>\n",
       "    </tr>\n",
       "    <tr>\n",
       "      <th>...</th>\n",
       "      <td>...</td>\n",
       "      <td>...</td>\n",
       "      <td>...</td>\n",
       "      <td>...</td>\n",
       "      <td>...</td>\n",
       "      <td>...</td>\n",
       "      <td>...</td>\n",
       "      <td>...</td>\n",
       "      <td>...</td>\n",
       "      <td>...</td>\n",
       "      <td>...</td>\n",
       "      <td>...</td>\n",
       "      <td>...</td>\n",
       "      <td>...</td>\n",
       "      <td>...</td>\n",
       "    </tr>\n",
       "    <tr>\n",
       "      <th>390</th>\n",
       "      <td>2022-05-01 19:07:17.845346+00:00</td>\n",
       "      <td>40.651575</td>\n",
       "      <td>-104.993519</td>\n",
       "      <td>1559.618</td>\n",
       "      <td>aQDuu2ABmXjHmMqYGFXe</td>\n",
       "      <td>2.271071</td>\n",
       "      <td>0.405651</td>\n",
       "      <td>0.053434</td>\n",
       "      <td>1.281296</td>\n",
       "      <td>1.072486</td>\n",
       "      <td>1.162344</td>\n",
       "      <td>0.699422</td>\n",
       "      <td>1.053836</td>\n",
       "      <td>&lt;micasense.capture.Capture object at 0x7fa5091...</td>\n",
       "      <td>False</td>\n",
       "    </tr>\n",
       "    <tr>\n",
       "      <th>391</th>\n",
       "      <td>2022-05-01 19:07:23.684240+00:00</td>\n",
       "      <td>40.651583</td>\n",
       "      <td>-104.993499</td>\n",
       "      <td>1559.289</td>\n",
       "      <td>nrGKOQTfgiwihDs6mljL</td>\n",
       "      <td>0.259467</td>\n",
       "      <td>0.489496</td>\n",
       "      <td>0.030988</td>\n",
       "      <td>0.800456</td>\n",
       "      <td>0.692916</td>\n",
       "      <td>0.755643</td>\n",
       "      <td>0.471064</td>\n",
       "      <td>0.695798</td>\n",
       "      <td>&lt;micasense.capture.Capture object at 0x7fa5091...</td>\n",
       "      <td>False</td>\n",
       "    </tr>\n",
       "    <tr>\n",
       "      <th>392</th>\n",
       "      <td>2022-05-01 19:08:15.672521+00:00</td>\n",
       "      <td>40.651597</td>\n",
       "      <td>-104.993539</td>\n",
       "      <td>1556.564</td>\n",
       "      <td>ZVbsTAz79aiQE0CmD49b</td>\n",
       "      <td>-2.464294</td>\n",
       "      <td>-0.072894</td>\n",
       "      <td>0.149037</td>\n",
       "      <td>1.105981</td>\n",
       "      <td>0.949384</td>\n",
       "      <td>1.024134</td>\n",
       "      <td>0.615710</td>\n",
       "      <td>0.947390</td>\n",
       "      <td>&lt;micasense.capture.Capture object at 0x7fa5091...</td>\n",
       "      <td>True</td>\n",
       "    </tr>\n",
       "    <tr>\n",
       "      <th>393</th>\n",
       "      <td>2022-05-01 19:08:19.132080+00:00</td>\n",
       "      <td>40.651597</td>\n",
       "      <td>-104.993538</td>\n",
       "      <td>1556.345</td>\n",
       "      <td>y2I7l1YvUP7O6J0OhKnh</td>\n",
       "      <td>-2.497420</td>\n",
       "      <td>-0.095350</td>\n",
       "      <td>0.154298</td>\n",
       "      <td>1.104590</td>\n",
       "      <td>0.947363</td>\n",
       "      <td>1.022000</td>\n",
       "      <td>0.613737</td>\n",
       "      <td>0.942102</td>\n",
       "      <td>&lt;micasense.capture.Capture object at 0x7fa5091...</td>\n",
       "      <td>True</td>\n",
       "    </tr>\n",
       "    <tr>\n",
       "      <th>394</th>\n",
       "      <td>2022-05-01 19:08:22.545361+00:00</td>\n",
       "      <td>40.651597</td>\n",
       "      <td>-104.993536</td>\n",
       "      <td>1556.215</td>\n",
       "      <td>DQu8idBK3ksOmLX4wNiN</td>\n",
       "      <td>-2.521154</td>\n",
       "      <td>-0.076528</td>\n",
       "      <td>0.176945</td>\n",
       "      <td>1.106813</td>\n",
       "      <td>0.934679</td>\n",
       "      <td>1.011282</td>\n",
       "      <td>0.610890</td>\n",
       "      <td>0.946371</td>\n",
       "      <td>&lt;micasense.capture.Capture object at 0x7fa5091...</td>\n",
       "      <td>True</td>\n",
       "    </tr>\n",
       "  </tbody>\n",
       "</table>\n",
       "<p>395 rows × 15 columns</p>\n",
       "</div>"
      ],
      "text/plain": [
       "                           timestamp   latitude   longitude  altitude  \\\n",
       "0   2022-05-01 18:50:00.214243+00:00  40.651590 -104.993526  1553.285   \n",
       "1   2022-05-01 18:50:03.973934+00:00  40.651591 -104.993527  1553.319   \n",
       "2   2022-05-01 18:50:07.764530+00:00  40.651592 -104.993529  1553.381   \n",
       "3   2022-05-01 18:51:09.543810+00:00  40.651599 -104.993523  1553.680   \n",
       "4   2022-05-01 18:52:03.725354+00:00  40.651614 -104.993429  1592.947   \n",
       "..                               ...        ...         ...       ...   \n",
       "390 2022-05-01 19:07:17.845346+00:00  40.651575 -104.993519  1559.618   \n",
       "391 2022-05-01 19:07:23.684240+00:00  40.651583 -104.993499  1559.289   \n",
       "392 2022-05-01 19:08:15.672521+00:00  40.651597 -104.993539  1556.564   \n",
       "393 2022-05-01 19:08:19.132080+00:00  40.651597 -104.993538  1556.345   \n",
       "394 2022-05-01 19:08:22.545361+00:00  40.651597 -104.993536  1556.215   \n",
       "\n",
       "               capture_id   dls-yaw  dls-pitch  dls-roll   irr-475   irr-560  \\\n",
       "0    wmW6Ovyglr7f3fte4v8j -2.861374  -0.227556 -0.008809  0.671917  0.575687   \n",
       "1    pEAA0e9bAccdQCPNoQqo -2.879719  -0.231877 -0.000182  0.677606  0.579780   \n",
       "2    dqlcOLQfKHJqdGoncpe0 -2.906203  -0.240109  0.003390  0.678770  0.580520   \n",
       "3    aZc4htnDo4FDpZfbF8yi -3.005834  -0.174524 -0.026523  0.797196  0.676911   \n",
       "4    Q4b7qQ5K7Y9T8vH52rZI  2.831001  -0.096044  0.161941  0.799710  0.676803   \n",
       "..                    ...       ...        ...       ...       ...       ...   \n",
       "390  aQDuu2ABmXjHmMqYGFXe  2.271071   0.405651  0.053434  1.281296  1.072486   \n",
       "391  nrGKOQTfgiwihDs6mljL  0.259467   0.489496  0.030988  0.800456  0.692916   \n",
       "392  ZVbsTAz79aiQE0CmD49b -2.464294  -0.072894  0.149037  1.105981  0.949384   \n",
       "393  y2I7l1YvUP7O6J0OhKnh -2.497420  -0.095350  0.154298  1.104590  0.947363   \n",
       "394  DQu8idBK3ksOmLX4wNiN -2.521154  -0.076528  0.176945  1.106813  0.934679   \n",
       "\n",
       "      irr-668   irr-840   irr-717  \\\n",
       "0    0.624080  0.378787  0.566405   \n",
       "1    0.627843  0.381185  0.571736   \n",
       "2    0.629626  0.381993  0.571969   \n",
       "3    0.726001  0.427084  0.655633   \n",
       "4    0.719237  0.429604  0.671434   \n",
       "..        ...       ...       ...   \n",
       "390  1.162344  0.699422  1.053836   \n",
       "391  0.755643  0.471064  0.695798   \n",
       "392  1.024134  0.615710  0.947390   \n",
       "393  1.022000  0.613737  0.942102   \n",
       "394  1.011282  0.610890  0.946371   \n",
       "\n",
       "                                               capture  calibrated  \n",
       "0    <micasense.capture.Capture object at 0x7fa5305...        True  \n",
       "1    <micasense.capture.Capture object at 0x7fa5091...        True  \n",
       "2    <micasense.capture.Capture object at 0x7fa5091...        True  \n",
       "3    <micasense.capture.Capture object at 0x7fa5091...       False  \n",
       "4    <micasense.capture.Capture object at 0x7fa5091...       False  \n",
       "..                                                 ...         ...  \n",
       "390  <micasense.capture.Capture object at 0x7fa5091...       False  \n",
       "391  <micasense.capture.Capture object at 0x7fa5091...       False  \n",
       "392  <micasense.capture.Capture object at 0x7fa5091...        True  \n",
       "393  <micasense.capture.Capture object at 0x7fa5091...        True  \n",
       "394  <micasense.capture.Capture object at 0x7fa5091...        True  \n",
       "\n",
       "[395 rows x 15 columns]"
      ]
     },
     "execution_count": 7,
     "metadata": {},
     "output_type": "execute_result"
    }
   ],
   "source": [
    "df"
   ]
  },
  {
   "cell_type": "code",
   "execution_count": 8,
   "metadata": {},
   "outputs": [
    {
     "data": {
      "text/plain": [
       "1566.714817144407"
      ]
     },
     "execution_count": 8,
     "metadata": {},
     "output_type": "execute_result"
    }
   ],
   "source": [
    "cutoff_altitude = df.altitude.mean()-3.0*df.altitude.std()\n",
    "df[\"valid_altitude\"] = df[\"altitude\"] > cutoff_altitude\n",
    "cutoff_altitude"
   ]
  },
  {
   "cell_type": "code",
   "execution_count": 9,
   "metadata": {},
   "outputs": [
    {
     "data": {
      "text/html": [
       "<div>\n",
       "<style scoped>\n",
       "    .dataframe tbody tr th:only-of-type {\n",
       "        vertical-align: middle;\n",
       "    }\n",
       "\n",
       "    .dataframe tbody tr th {\n",
       "        vertical-align: top;\n",
       "    }\n",
       "\n",
       "    .dataframe thead th {\n",
       "        text-align: right;\n",
       "    }\n",
       "</style>\n",
       "<table border=\"1\" class=\"dataframe\">\n",
       "  <thead>\n",
       "    <tr style=\"text-align: right;\">\n",
       "      <th></th>\n",
       "      <th>timestamp</th>\n",
       "      <th>latitude</th>\n",
       "      <th>longitude</th>\n",
       "      <th>altitude</th>\n",
       "      <th>capture_id</th>\n",
       "      <th>dls-yaw</th>\n",
       "      <th>dls-pitch</th>\n",
       "      <th>dls-roll</th>\n",
       "      <th>irr-475</th>\n",
       "      <th>irr-560</th>\n",
       "      <th>irr-668</th>\n",
       "      <th>irr-840</th>\n",
       "      <th>irr-717</th>\n",
       "      <th>capture</th>\n",
       "      <th>calibrated</th>\n",
       "      <th>valid_altitude</th>\n",
       "      <th>timestamp_diff</th>\n",
       "    </tr>\n",
       "  </thead>\n",
       "  <tbody>\n",
       "    <tr>\n",
       "      <th>3</th>\n",
       "      <td>2022-05-01 18:51:09.543810+00:00</td>\n",
       "      <td>40.651599</td>\n",
       "      <td>-104.993523</td>\n",
       "      <td>1553.68</td>\n",
       "      <td>aZc4htnDo4FDpZfbF8yi</td>\n",
       "      <td>-3.005834</td>\n",
       "      <td>-0.174524</td>\n",
       "      <td>-0.026523</td>\n",
       "      <td>0.797196</td>\n",
       "      <td>0.676911</td>\n",
       "      <td>0.726001</td>\n",
       "      <td>0.427084</td>\n",
       "      <td>0.655633</td>\n",
       "      <td>&lt;micasense.capture.Capture object at 0x7fa5091...</td>\n",
       "      <td>False</td>\n",
       "      <td>False</td>\n",
       "      <td>0 days 00:01:01.779280</td>\n",
       "    </tr>\n",
       "  </tbody>\n",
       "</table>\n",
       "</div>"
      ],
      "text/plain": [
       "                         timestamp   latitude   longitude  altitude  \\\n",
       "3 2022-05-01 18:51:09.543810+00:00  40.651599 -104.993523   1553.68   \n",
       "\n",
       "             capture_id   dls-yaw  dls-pitch  dls-roll   irr-475   irr-560  \\\n",
       "3  aZc4htnDo4FDpZfbF8yi -3.005834  -0.174524 -0.026523  0.797196  0.676911   \n",
       "\n",
       "    irr-668   irr-840   irr-717  \\\n",
       "3  0.726001  0.427084  0.655633   \n",
       "\n",
       "                                             capture  calibrated  \\\n",
       "3  <micasense.capture.Capture object at 0x7fa5091...       False   \n",
       "\n",
       "   valid_altitude         timestamp_diff  \n",
       "3           False 0 days 00:01:01.779280  "
      ]
     },
     "execution_count": 9,
     "metadata": {},
     "output_type": "execute_result"
    }
   ],
   "source": [
    "df[\"timestamp_diff\"] = df.timestamp.diff()\n",
    "df[df.timestamp_diff == df.timestamp_diff.max()]"
   ]
  },
  {
   "cell_type": "code",
   "execution_count": 12,
   "metadata": {},
   "outputs": [
    {
     "data": {
      "text/plain": [
       "{1: [0, 1, 2, 3], 2: [4, 5, 6, 7, 8, 9, 10, 11, 12, 13, 14, 15, 16, 17, 18, 19, 20, 21, 22, 23, 24, 25, 26, 27, 28, 29, 30, 31, 32, 33, 34, 35, 36, 37, 38, 39, 40, 41, 42, 43, 44, 45, 46, 47, 48, 49, 50, 51, 52, 53, 54, 55, 56, 57, 58, 59, 60, 61, 62, 63, 64, 65, 66, 67, 68, 69, 70, 71, 72, 73, 74, 75, 76, 77, 78, 79, 80, 81, 82, 83, 84, 85, 86, 87, 88, 89, 90, 91, 92, 93, 94, 95, 96, 97, 98, 99, 100, 101, 102, 103, ...], 3: [380, 381, 382, 383, 384, 385, 386, 387, 388, 389, 390, 391, 392, 393, 394]}"
      ]
     },
     "execution_count": 12,
     "metadata": {},
     "output_type": "execute_result"
    }
   ],
   "source": [
    "gr = df.groupby((df.valid_altitude!=df.valid_altitude.shift()).cumsum())\n",
    "gr.groups"
   ]
  },
  {
   "cell_type": "code",
   "execution_count": 11,
   "metadata": {},
   "outputs": [
    {
     "data": {
      "text/plain": [
       "Timedelta('0 days 00:00:05.150550510')"
      ]
     },
     "execution_count": 11,
     "metadata": {},
     "output_type": "execute_result"
    }
   ],
   "source": [
    "df.timestamp.diff().std()"
   ]
  },
  {
   "cell_type": "code",
   "execution_count": null,
   "metadata": {},
   "outputs": [],
   "source": []
  }
 ],
 "metadata": {
  "kernelspec": {
   "display_name": "Python 3 (ipykernel)",
   "language": "python",
   "name": "python3"
  },
  "language_info": {
   "codemirror_mode": {
    "name": "ipython",
    "version": 3
   },
   "file_extension": ".py",
   "mimetype": "text/x-python",
   "name": "python",
   "nbconvert_exporter": "python",
   "pygments_lexer": "ipython3",
   "version": "3.8.10"
  }
 },
 "nbformat": 4,
 "nbformat_minor": 5
}
