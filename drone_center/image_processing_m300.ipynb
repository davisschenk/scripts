{
 "cells": [
  {
   "cell_type": "code",
   "execution_count": 1,
   "id": "65543203",
   "metadata": {},
   "outputs": [],
   "source": [
    "import numpy as np\n",
    "import pandas as pd\n",
    "from micasense import imageset"
   ]
  },
  {
   "cell_type": "code",
   "execution_count": null,
   "id": "e6837d29",
   "metadata": {},
   "outputs": [],
   "source": [
    "imgset = imageset.ImageSet.from_directory(\"/media/davis/UBUNTU 20_0/Easten 050122 M300/0002SET\")"
   ]
  },
  {
   "cell_type": "code",
   "execution_count": null,
   "id": "bc9b95b6",
   "metadata": {},
   "outputs": [],
   "source": [
    "data, columns = imgset.as_nested_lists()\n",
    "df = pd.DataFrame.from_records(data, columns=columns)"
   ]
  },
  {
   "cell_type": "code",
   "execution_count": null,
   "id": "ffb962e4",
   "metadata": {},
   "outputs": [],
   "source": [
    "def check_calibrated(capture):\n",
    "    if capture.panels_in_all_expected_images():\n",
    "        return True\n",
    "    capture.clear_image_data()\n",
    "    return False"
   ]
  },
  {
   "cell_type": "code",
   "execution_count": null,
   "id": "17b84731",
   "metadata": {},
   "outputs": [],
   "source": [
    "    for capture in imgset.captures:\n",
    "        ci = capture.images[0].capture_id\n",
    "        df.loc[df.capture_id == ci, \"capture\"] = capture"
   ]
  },
  {
   "cell_type": "code",
   "execution_count": null,
   "id": "438455c0",
   "metadata": {
    "scrolled": true
   },
   "outputs": [],
   "source": [
    "df[\"calibrated\"] = False\n",
    "df.calibrated.iloc[:10] = df.capture.iloc[:10].apply(check_calibrated)\n",
    "df.calibrated.iloc[-10:] = df.capture.iloc[-10:].apply(check_calibrated)\n",
    "\n",
    "df.calibrated"
   ]
  },
  {
   "cell_type": "code",
   "execution_count": null,
   "id": "053dd5a6",
   "metadata": {},
   "outputs": [],
   "source": [
    "df"
   ]
  },
  {
   "cell_type": "code",
   "execution_count": null,
   "id": "2ba6062d",
   "metadata": {},
   "outputs": [],
   "source": [
    "cutoff_altitude = df.altitude.mean()-3.0*df.altitude.std()\n",
    "df[\"valid_altitude\"] = df[\"altitude\"] > cutoff_altitude\n",
    "cutoff_altitude"
   ]
  },
  {
   "cell_type": "code",
   "execution_count": null,
   "id": "4c95c60b",
   "metadata": {},
   "outputs": [],
   "source": [
    "df[\"timestamp_diff\"] = df.timestamp.diff()\n",
    "df[df.timestamp_diff == df.timestamp_diff.max()]"
   ]
  },
  {
   "cell_type": "code",
   "execution_count": null,
   "id": "11a8d3b1",
   "metadata": {},
   "outputs": [],
   "source": [
    "gr = df.groupby((df.valid_altitude!=df.valid_altitude.shift()).cumsum())\n",
    "gr.groups"
   ]
  },
  {
   "cell_type": "code",
   "execution_count": null,
   "id": "2a5ae756",
   "metadata": {},
   "outputs": [],
   "source": [
    "df.timestamp.diff().std()"
   ]
  },
  {
   "cell_type": "code",
   "execution_count": null,
   "id": "d463c646",
   "metadata": {},
   "outputs": [],
   "source": []
  }
 ],
 "metadata": {
  "kernelspec": {
   "display_name": "Python 3 (ipykernel)",
   "language": "python",
   "name": "python3"
  },
  "language_info": {
   "codemirror_mode": {
    "name": "ipython",
    "version": 3
   },
   "file_extension": ".py",
   "mimetype": "text/x-python",
   "name": "python",
   "nbconvert_exporter": "python",
   "pygments_lexer": "ipython3",
   "version": "3.8.10"
  }
 },
 "nbformat": 4,
 "nbformat_minor": 5
}
